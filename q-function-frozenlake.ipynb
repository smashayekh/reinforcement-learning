{
 "cells": [
  {
   "cell_type": "code",
   "execution_count": 1,
   "metadata": {},
   "outputs": [],
   "source": [
    "import gym\n",
    "import numpy as np\n",
    "import matplotlib.pyplot as plt\n",
    "import seaborn as sns\n",
    "import random\n",
    "from tqdm import tqdm\n",
    "%matplotlib inline"
   ]
  },
  {
   "cell_type": "code",
   "execution_count": 11,
   "metadata": {
    "collapsed": true
   },
   "outputs": [],
   "source": [
    "env = gym.make('FrozenLake-v0')"
   ]
  },
  {
   "cell_type": "code",
   "execution_count": 3,
   "metadata": {
    "collapsed": true
   },
   "outputs": [],
   "source": [
    "lr = 0.80\n",
    "gamma = 0.95\n",
    "n_episodes = 2000"
   ]
  },
  {
   "cell_type": "code",
   "execution_count": 4,
   "metadata": {
    "collapsed": true
   },
   "outputs": [],
   "source": [
    "def test_Q(Q):\n",
    "    env = gym.make('FrozenLake-v0')\n",
    "    s = env.reset()\n",
    "    for j in range(100):\n",
    "        # determine the next action\n",
    "        a = np.argmax(Q[s,:])\n",
    "        # take the action\n",
    "        s, r, d, _ = env.step(a)\n",
    "        # exit condition\n",
    "        if d == True:\n",
    "            break\n",
    "    return j, r"
   ]
  },
  {
   "cell_type": "code",
   "execution_count": 5,
   "metadata": {
    "collapsed": true
   },
   "outputs": [],
   "source": [
    "def multi_test_Q(Q, n_test):\n",
    "    jList = np.zeros(n_test)\n",
    "    rList = np.zeros(n_test)\n",
    "    for n in range(n_test):\n",
    "        j, r = test_Q(Q)\n",
    "        jList[n] = j\n",
    "        rList[n] = r\n",
    "    success_rate = rList.sum()/n_test\n",
    "    avg_n_steps = jList.mean()\n",
    "    return avg_n_steps, success_rate"
   ]
  },
  {
   "cell_type": "code",
   "execution_count": 9,
   "metadata": {},
   "outputs": [
    {
     "name": "stderr",
     "output_type": "stream",
     "text": [
      "100%|██████████| 2000/2000 [00:08<00:00, 222.49it/s]\n"
     ]
    }
   ],
   "source": [
    "# initialize Q\n",
    "Q = np.zeros((env.observation_space.n, env.action_space.n))\n",
    "Q_ = np.zeros((env.observation_space.n, env.action_space.n))\n",
    "dQ = np.zeros(n_episodes)\n",
    "avg_n_steps = np.zeros(n_episodes)\n",
    "success_rate = np.zeros(n_episodes)\n",
    "\n",
    "for n in tqdm(range(n_episodes)):\n",
    "    s = env.reset()\n",
    "    for j in range(100):\n",
    "        # determine the next action\n",
    "        noise = np.random.randn(1,env.action_space.n)*(1./(n+1))\n",
    "        a = np.argmax(Q[s,:]+noise)\n",
    "        # take the action\n",
    "        s1, r, d, _ = env.step(a)\n",
    "        # update Q[s,a]\n",
    "        Q[s,a] = (1-lr) * Q[s,a] \\\n",
    "               + lr     * (r + gamma*np.max(Q[s1,:]))\n",
    "        # update the state\n",
    "        s = s1\n",
    "        # exit condition\n",
    "        if d == True:\n",
    "            break\n",
    "    # run the test\n",
    "    avg_n_steps[n], success_rate[n] = multi_test_Q(Q, n_test=2)\n",
    "    dQ[n] = ((Q_-Q)**2).sum()\n",
    "    Q_ = Q.copy()\n",
    "    "
   ]
  },
  {
   "cell_type": "code",
   "execution_count": 50,
   "metadata": {},
   "outputs": [
    {
     "data": {
      "image/png": "[encoded data removed]",
      "text/plain": [
       "<matplotlib.figure.Figure at 0x7f0acba55400>"
      ]
     },
     "metadata": {},
     "output_type": "display_data"
    }
   ],
   "source": [
    "fig, ax = plt.subplots(figsize=(10,5))\n",
    "sns.heatmap(Q.T)\n",
    "ax.set_ylim(ax.get_ylim()[::-1])\n",
    "ax.set_ylabel('actions')\n",
    "ax.set_xlabel('states (observations)')\n",
    "_ = plt.plot()"
   ]
  }
 ],
 "metadata": {
  "kernelspec": {
   "display_name": "Python 3",
   "language": "python",
   "name": "python3"
  },
  "language_info": {
   "codemirror_mode": {
    "name": "ipython",
    "version": 3
   },
   "file_extension": ".py",
   "mimetype": "text/x-python",
   "name": "python",
   "nbconvert_exporter": "python",
   "pygments_lexer": "ipython3",
   "version": "3.5.2"
  }
 },
 "nbformat": 4,
 "nbformat_minor": 2
}
